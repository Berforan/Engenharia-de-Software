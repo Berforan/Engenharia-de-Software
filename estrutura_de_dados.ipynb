{
  "nbformat": 4,
  "nbformat_minor": 0,
  "metadata": {
    "colab": {
      "name": "Copy of Untitled1.ipynb",
      "provenance": [],
      "collapsed_sections": [],
      "authorship_tag": "ABX9TyOFxEAsru9iBR7/RovPFxQP",
      "include_colab_link": true
    },
    "kernelspec": {
      "name": "python3",
      "display_name": "Python 3"
    },
    "language_info": {
      "name": "python"
    }
  },
  "cells": [
    {
      "cell_type": "markdown",
      "metadata": {
        "id": "view-in-github",
        "colab_type": "text"
      },
      "source": [
        "<a href=\"https://colab.research.google.com/github/Berforan/Engenharia-de-Software/blob/main/estrutura_de_dados.ipynb\" target=\"_parent\"><img src=\"https://colab.research.google.com/assets/colab-badge.svg\" alt=\"Open In Colab\"/></a>"
      ]
    },
    {
      "cell_type": "markdown",
      "source": [
        "### **PYTHON ESTRUTURAS DE DADOS**\n",
        "```\n",
        "\n"
      ],
      "metadata": {
        "id": "wvTrjJuI2u_j"
      }
    },
    {
      "cell_type": "markdown",
      "source": [
        "# **LISTAS.**\n",
        "**MOTIVAÇÃO**\n",
        "\n",
        "O aplicativo do seu banco registra toda a sua movimentação financeira. O final do dia, o app consolida o saldo final para que você possa controlar sua vida financeira."
      ],
      "metadata": {
        "id": "6Abg9OVF3KSs"
      }
    },
    {
      "cell_type": "code",
      "source": [
        "dia_15_saldo_inicial = 2000\n",
        "\n",
        "dia_15_transacao_1 = 250\n",
        "dia_15_transacao_2 = -55\n",
        "dia_15_transacao_3 = 700\n",
        "dia_15_transacao_4 = 80.91"
      ],
      "metadata": {
        "id": "Kb4OMh0o3ns6"
      },
      "execution_count": null,
      "outputs": []
    },
    {
      "cell_type": "code",
      "source": [
        "dia_15_saldo_final = dia_15_saldo_inicial + dia_15_transacao_1 + dia_15_transacao_2 + dia_15_transacao_3 + dia_15_transacao_4\n",
        "print(dia_15_saldo_final)"
      ],
      "metadata": {
        "colab": {
          "base_uri": "https://localhost:8080/"
        },
        "id": "Vegg-mNz4LIg",
        "outputId": "40b1fdb5-fbad-486c-ee3d-e5834b0b212b"
      },
      "execution_count": null,
      "outputs": [
        {
          "output_type": "stream",
          "name": "stdout",
          "text": [
            "2975.91\n"
          ]
        }
      ]
    },
    {
      "cell_type": "markdown",
      "source": [
        "Será que existe uma forma melhor de armazenar as transações diárias?\n"
      ],
      "metadata": {
        "id": "XRh6AA4Z5Orm"
      }
    },
    {
      "cell_type": "markdown",
      "source": [
        "# **1.2.DEFINIÇÃO**\n",
        "Armazenam sequências mutáveis e ordenadas de valores. São do tipo list:"
      ],
      "metadata": {
        "id": "oX-XBfVa5cJE"
      }
    },
    {
      "cell_type": "code",
      "source": [
        "usuario_web =  [\"André Perez\", \"andre.perez\", \"andre123\", \"andre.perez@gmail.com\"]\n",
        "\n",
        "print(usuario_web)\n",
        "print(type(usuario_web))"
      ],
      "metadata": {
        "colab": {
          "base_uri": "https://localhost:8080/"
        },
        "id": "CtWWNnBl5t7Z",
        "outputId": "59781a04-a629-4ba7-fe15-4a0d65fa2fb3"
      },
      "execution_count": null,
      "outputs": [
        {
          "output_type": "stream",
          "name": "stdout",
          "text": [
            "['André Perez', 'andre.perez', 'andre123', 'andre.perez@gmail.com']\n",
            "<class 'list'>\n"
          ]
        }
      ]
    },
    {
      "cell_type": "code",
      "source": [
        "idade = 30\n",
        "saldo_em_conta = 752.15\n",
        "usuario_loggedin = True\n",
        "\n",
        "usuario_web = [\"André Perez\", idade, \"andre.perez\", \"andre123\", \"andre.perez@gmail.com\", saldo_em_conta, usuario_loggedin]\n",
        "print(usuario_web)\n",
        "print(type(usuario_web))"
      ],
      "metadata": {
        "colab": {
          "base_uri": "https://localhost:8080/"
        },
        "id": "ofAwTnBU6SlI",
        "outputId": "50253f8c-f5e4-4d8a-c93b-29e4346b3bdc"
      },
      "execution_count": null,
      "outputs": [
        {
          "output_type": "stream",
          "name": "stdout",
          "text": [
            "['André Perez', 30, 'andre.perez', 'andre123', 'andre.perez@gmail.com', 752.15, True]\n",
            "<class 'list'>\n"
          ]
        }
      ]
    },
    {
      "cell_type": "markdown",
      "source": [
        "## **1.3. OPERAÇÕES**\n",
        "As operações da estrutura do tipo *list* são:\n",
        "\n",
        "\n",
        "## .   + (concatenação).\n",
        "\n",
        "**Exemplo**:Fabricantes de hardware mobile\n",
        "\n",
        "\n"
      ],
      "metadata": {
        "id": "sqtg9HNN7Ir6"
      }
    },
    {
      "cell_type": "code",
      "source": [
        "fabricantes_mobile_china = [\"xioami\", \"huawei\"]\n",
        "fabricantes_mobile_eua = [\"apple\", \"motorola\"]\n",
        "fabricantes_mobile = fabricantes_mobile_china + fabricantes_mobile_eua\n",
        "\n",
        "print(fabricantes_mobile_china)\n",
        "print(fabricantes_mobile_eua)\n",
        "print(fabricantes_mobile)\n"
      ],
      "metadata": {
        "colab": {
          "base_uri": "https://localhost:8080/"
        },
        "id": "tQl7R94c_HUt",
        "outputId": "c0005bf0-b8cb-4e9e-ef56-ee603efe5778"
      },
      "execution_count": null,
      "outputs": [
        {
          "output_type": "stream",
          "name": "stdout",
          "text": [
            "['xioami', 'huawei']\n",
            "['apple', 'motorola']\n",
            "['xioami', 'huawei', 'apple', 'motorola']\n"
          ]
        }
      ]
    },
    {
      "cell_type": "markdown",
      "source": [
        "Outra operação muito utilizada é a de fatiamento(*slicing*), semelhante ao de *strings*."
      ],
      "metadata": {
        "id": "8MykRyWkAP1o"
      }
    },
    {
      "cell_type": "markdown",
      "source": [
        "fatiamento fixo:"
      ],
      "metadata": {
        "id": "-i4ndfMIB6KM"
      }
    },
    {
      "cell_type": "code",
      "source": [
        "print(f\"0: {fabricantes_mobile[0]}\")\n",
        "print(f\"-1: {fabricantes_mobile[-1]}\")"
      ],
      "metadata": {
        "colab": {
          "base_uri": "https://localhost:8080/"
        },
        "id": "E8myYl3QAbwU",
        "outputId": "c612830a-8a82-4f15-d566-6cb4d3ffaedd"
      },
      "execution_count": null,
      "outputs": [
        {
          "output_type": "stream",
          "name": "stdout",
          "text": [
            "0: xioami, huawei\n",
            "-1: motorola\n"
          ]
        }
      ]
    },
    {
      "cell_type": "markdown",
      "source": [
        "Fatiamento por intervalo:"
      ],
      "metadata": {
        "id": "vc_FcDVFCrK2"
      }
    },
    {
      "cell_type": "code",
      "source": [
        "fabricantes_mobile_china = fabricantes_mobile[0:2]\n",
        "fabricantes_mobile_eua = fabricantes_mobile[2:len(fabricantes_mobile)]\n",
        "\n",
        "print(\"china: \" + str(fabricantes_mobile_china))\n",
        "print(\"eua: \" + str(fabricantes_mobile_eua))"
      ],
      "metadata": {
        "colab": {
          "base_uri": "https://localhost:8080/"
        },
        "id": "5ZZEe9lGCvIi",
        "outputId": "06a07fdc-ca4f-4c8c-b04f-7dca4ef3239f"
      },
      "execution_count": null,
      "outputs": [
        {
          "output_type": "stream",
          "name": "stdout",
          "text": [
            "china: ['xioami', 'huawei']\n",
            "eua: ['apple', 'motorola']\n"
          ]
        }
      ]
    },
    {
      "cell_type": "markdown",
      "source": [
        "Podemos adicionar elementos a uma posição especifica da lista:"
      ],
      "metadata": {
        "id": "8nOZqoSjFBn-"
      }
    },
    {
      "cell_type": "code",
      "source": [
        "print(fabricantes_mobile)"
      ],
      "metadata": {
        "colab": {
          "base_uri": "https://localhost:8080/"
        },
        "id": "xwiZiLNHFhw3",
        "outputId": "74a6e473-d2d1-43df-ce14-3effec73388e"
      },
      "execution_count": null,
      "outputs": [
        {
          "output_type": "stream",
          "name": "stdout",
          "text": [
            "['xioami', 'huawei', 'apple', 'motorola']\n"
          ]
        }
      ]
    },
    {
      "cell_type": "code",
      "source": [
        "fabricantes_mobile[2] = \"nokia\"\n",
        "print(fabricantes_mobile)\n",
        "[\"xiaomi\", \"huawei\", \"nokia\", \"motorola\" ]"
      ],
      "metadata": {
        "colab": {
          "base_uri": "https://localhost:8080/"
        },
        "id": "o_vvViMJFI9Z",
        "outputId": "95895a0f-ae78-475c-fde2-1b2a3cd23b05"
      },
      "execution_count": null,
      "outputs": [
        {
          "output_type": "stream",
          "name": "stdout",
          "text": [
            "['xioami', 'huawei', 'nokia', 'motorola']\n"
          ]
        },
        {
          "output_type": "execute_result",
          "data": {
            "text/plain": [
              "['xiaomi', 'huawei', 'nokia', 'motorola']"
            ]
          },
          "metadata": {},
          "execution_count": 21
        }
      ]
    },
    {
      "cell_type": "markdown",
      "source": [
        "# 1.4.**MÉTODOS**\n",
        "São métodos nativos do Python que nos ajudam a trabalhar no dia a dia com listas:"
      ],
      "metadata": {
        "id": "jqUHt_irGUx0"
      }
    },
    {
      "cell_type": "code",
      "source": [
        "juros = [0.05, 0.07, 0.02, 0.04, 0.08]\n",
        "print(juros)"
      ],
      "metadata": {
        "colab": {
          "base_uri": "https://localhost:8080/"
        },
        "id": "9WuIqRffGia-",
        "outputId": "d3663ac6-2ebd-47f9-fdd2-12c3d27a8d33"
      },
      "execution_count": null,
      "outputs": [
        {
          "output_type": "stream",
          "name": "stdout",
          "text": [
            "[0.05, 0.07, 0.02, 0.04, 0.08]\n"
          ]
        }
      ]
    },
    {
      "cell_type": "code",
      "source": [
        "# Inserir um elemento sem substituir: list.insert(index, val)\n",
        "juros.insert(0, 0.10)\n",
        "print(juros)"
      ],
      "metadata": {
        "colab": {
          "base_uri": "https://localhost:8080/"
        },
        "id": "Ti5u3O-sGvSO",
        "outputId": "39d726b9-aae1-4618-d1d2-5d39000205cb"
      },
      "execution_count": null,
      "outputs": [
        {
          "output_type": "stream",
          "name": "stdout",
          "text": [
            "[0.1, 0.05, 0.07, 0.02, 0.04, 0.08]\n"
          ]
        }
      ]
    },
    {
      "cell_type": "code",
      "source": [
        "# inserir um elemento pelo valor: list.append(val)\n",
        "juros.append(0.09)\n",
        "print(juros)"
      ],
      "metadata": {
        "colab": {
          "base_uri": "https://localhost:8080/"
        },
        "id": "TJgzTMeTIUtV",
        "outputId": "14d1ea75-b8df-4d4c-8040-e104e42100ad"
      },
      "execution_count": null,
      "outputs": [
        {
          "output_type": "stream",
          "name": "stdout",
          "text": [
            "[0.1, 0.05, 0.07, 0.02, 0.04, 0.08, 0.09]\n"
          ]
        }
      ]
    },
    {
      "cell_type": "code",
      "source": [
        "# remover um elemento no fim da lista: list.remove(val)\n",
        "juros.remove(0.1)\n",
        "print(juros)"
      ],
      "metadata": {
        "colab": {
          "base_uri": "https://localhost:8080/"
        },
        "id": "Fl4CeLnYKWOQ",
        "outputId": "baae17b3-1628-429a-f1d4-f27190cdcde8"
      },
      "execution_count": null,
      "outputs": [
        {
          "output_type": "stream",
          "name": "stdout",
          "text": [
            "[0.05, 0.07, 0.02, 0.04, 0.08, 0.09]\n"
          ]
        }
      ]
    },
    {
      "cell_type": "code",
      "source": [
        "# remover um elemento pelo indice: list.pop(val)\n",
        "terceiro_juros = juros.pop(2)\n",
        "print(terceiro_juros)"
      ],
      "metadata": {
        "colab": {
          "base_uri": "https://localhost:8080/"
        },
        "id": "ohZQTy4bKoXo",
        "outputId": "62824b6c-e7ba-4dba-8f81-44b032382b1d"
      },
      "execution_count": null,
      "outputs": [
        {
          "output_type": "stream",
          "name": "stdout",
          "text": [
            "0.02\n"
          ]
        }
      ]
    },
    {
      "cell_type": "code",
      "source": [
        "print(juros)"
      ],
      "metadata": {
        "colab": {
          "base_uri": "https://localhost:8080/"
        },
        "id": "ZHHuEudOLZKS",
        "outputId": "249c2623-3491-471b-9c7d-36544e548ea9"
      },
      "execution_count": null,
      "outputs": [
        {
          "output_type": "stream",
          "name": "stdout",
          "text": [
            "[0.05, 0.07, 0.04, 0.08, 0.09]\n"
          ]
        }
      ]
    },
    {
      "cell_type": "markdown",
      "source": [
        "### 1.5.**CONVERSÃO**\n",
        "Podemos converter alguns tipos de variáveis em listas, como *strings*."
      ],
      "metadata": {
        "id": "R-x815WGK_Fj"
      }
    },
    {
      "cell_type": "code",
      "source": [
        "email = \"andre.perez@mail.com\"\n",
        "caracteres_email = list(email)\n",
        "\n",
        "print(email)\n",
        "print(caracteres_email)"
      ],
      "metadata": {
        "colab": {
          "base_uri": "https://localhost:8080/"
        },
        "id": "kmT2hpA_LDNZ",
        "outputId": "f1b4d7e2-2fad-421f-abe7-51aa9e7b3c3b"
      },
      "execution_count": null,
      "outputs": [
        {
          "output_type": "stream",
          "name": "stdout",
          "text": [
            "andre.perez@mail.com\n",
            "['a', 'n', 'd', 'r', 'e', '.', 'p', 'e', 'r', 'e', 'z', '@', 'm', 'a', 'i', 'l', '.', 'c', 'o', 'm']\n"
          ]
        }
      ]
    },
    {
      "cell_type": "markdown",
      "source": [
        "## 1.6.REVISITANDO A **MOTIVAÇÃO**"
      ],
      "metadata": {
        "id": "_qilTpoSMvAf"
      }
    },
    {
      "cell_type": "code",
      "source": [
        "dia_15_transacao_inicial = 2000\n",
        "\n",
        "dia_15_transacoes = []\n",
        "\n",
        "dia_15_transacoes.append(243)\n",
        "dia_15_transacoes.append(-798.58)\n",
        "dia_15_transacoes.append(427.58)\n",
        "dia_15_transacoes.append(-10.85)\n",
        "\n",
        "print(dia_15_transacoes)"
      ],
      "metadata": {
        "colab": {
          "base_uri": "https://localhost:8080/"
        },
        "id": "WigLM8o_L7I1",
        "outputId": "f0f89dc4-975d-4a23-dafe-54211ee914a4"
      },
      "execution_count": null,
      "outputs": [
        {
          "output_type": "stream",
          "name": "stdout",
          "text": [
            "[243, -798.58, 427.58, -10.85]\n"
          ]
        }
      ]
    },
    {
      "cell_type": "code",
      "source": [
        "dia_15_saldo_final = dia_15_saldo_inicial + dia_15_transacoes[0] + dia_15_transacoes[1] + dia_15_transacoes[2] + dia_15_transacoes[3]\n",
        "print(dia_15_saldo_final)"
      ],
      "metadata": {
        "colab": {
          "base_uri": "https://localhost:8080/"
        },
        "id": "mQCZMVT9M1OH",
        "outputId": "b973c1a4-fd96-468b-c1cb-a3110bbd744e"
      },
      "execution_count": null,
      "outputs": [
        {
          "output_type": "stream",
          "name": "stdout",
          "text": [
            "1861.15\n"
          ]
        }
      ]
    },
    {
      "cell_type": "code",
      "source": [
        ""
      ],
      "metadata": {
        "id": "lH8U6cHPN93j"
      },
      "execution_count": null,
      "outputs": []
    }
  ]
}