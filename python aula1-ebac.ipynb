{
  "nbformat": 4,
  "nbformat_minor": 0,
  "metadata": {
    "colab": {
      "name": "Untitled0.ipynb",
      "provenance": [],
      "collapsed_sections": [],
      "authorship_tag": "ABX9TyMN3L43vzgVkXYaTaLfcWmy",
      "include_colab_link": true
    },
    "kernelspec": {
      "name": "python3",
      "display_name": "Python 3"
    },
    "language_info": {
      "name": "python"
    }
  },
  "cells": [
    {
      "cell_type": "markdown",
      "metadata": {
        "id": "view-in-github",
        "colab_type": "text"
      },
      "source": [
        "<a href=\"https://colab.research.google.com/github/Berforan/Engenharia-de-Software/blob/main/python%20aula1-ebac.ipynb\" target=\"_parent\"><img src=\"https://colab.research.google.com/assets/colab-badge.svg\" alt=\"Open In Colab\"/></a>"
      ]
    },
    {
      "cell_type": "code",
      "metadata": {
        "colab": {
          "base_uri": "https://localhost:8080/"
        },
        "id": "1DetX5jU9oWu",
        "outputId": "703a094b-9e07-4411-8b3b-49ab8a897bbd"
      },
      "source": [
        "nome = \"Diego\"\n",
        "sobrenome = \"Salles Chaves\"\n",
        "apresentacao = f\"Olá! me Chamo {nome} {sobrenome}\"\n",
        "print(apresentacao)\n",
        "print(type(apresentacao))\n"
      ],
      "execution_count": null,
      "outputs": [
        {
          "output_type": "stream",
          "name": "stdout",
          "text": [
            "Olá! me Chamo Diego Salles Chaves\n",
            "<class 'str'>\n"
          ]
        }
      ]
    },
    {
      "cell_type": "code",
      "metadata": {
        "colab": {
          "base_uri": "https://localhost:8080/"
        },
        "id": "7zpl6L_56fXy",
        "outputId": "92905d37-e28b-4994-9a90-9c8faf8c8da4"
      },
      "source": [
        "nome = \"Diego\"\n",
        "sobrenome = \"Salles Chaves\"\n",
        "apresentacao = \"Olá! me chamo \" + nome +\" \" + sobrenome +\".\"\n",
        "print(apresentacao)"
      ],
      "execution_count": 2,
      "outputs": [
        {
          "output_type": "stream",
          "name": "stdout",
          "text": [
            "Olá! me chamo Diego Salles Chaves.\n"
          ]
        }
      ]
    },
    {
      "cell_type": "code",
      "metadata": {
        "colab": {
          "base_uri": "https://localhost:8080/"
        },
        "id": "PdzkN7hN3hpE",
        "outputId": "eb424c2d-c51c-4334-aad6-8c2eaffe7ba2"
      },
      "source": [
        "nome_da_aula = \"aula 4, Modulo 1, Strings\"\n",
        "print(nome_da_aula)\n",
        "print(type(nome_da_aula))"
      ],
      "execution_count": 3,
      "outputs": [
        {
          "output_type": "stream",
          "name": "stdout",
          "text": [
            "aula 4, Modulo 1, Strings\n",
            "<class 'str'>\n"
          ]
        }
      ]
    },
    {
      "cell_type": "code",
      "metadata": {
        "id": "UtoFHOs9Q-iK",
        "outputId": "07021d43-9ed4-4224-b8f6-21fa5052e57d",
        "colab": {
          "base_uri": "https://localhost:8080/"
        }
      },
      "source": [
        "vtv_19 = 450.0\n",
        "qtv_19 = 3\n",
        "\n",
        "tkt_19 = vtv_19 / qtv_19\n",
        "print(tkt_19)"
      ],
      "execution_count": 6,
      "outputs": [
        {
          "output_type": "stream",
          "name": "stdout",
          "text": [
            "150.0\n"
          ]
        }
      ]
    },
    {
      "cell_type": "code",
      "metadata": {
        "id": "YF4NPFQxqtZ8",
        "colab": {
          "base_uri": "https://localhost:8080/"
        },
        "outputId": "804897f7-f7f2-4460-a8c6-7144b9b8e3b7"
      },
      "source": [
        "print(type(37))\n",
        "print(type(10.1))\n",
        "print(type(1+2j))"
      ],
      "execution_count": null,
      "outputs": [
        {
          "output_type": "stream",
          "name": "stdout",
          "text": [
            "<class 'int'>\n",
            "<class 'float'>\n",
            "<class 'complex'>\n"
          ]
        }
      ]
    },
    {
      "cell_type": "code",
      "metadata": {
        "colab": {
          "base_uri": "https://localhost:8080/"
        },
        "id": "vwLcZ5nC08KT",
        "outputId": "29931096-ade9-4cd6-c42b-626c3a71ba71"
      },
      "source": [
        "svv_19 = 153.98\n",
        "sqv_19 = 3\n",
        "tktm_19 = svv_19 / sqv_19\n",
        "print(tktm_19)\n"
      ],
      "execution_count": null,
      "outputs": [
        {
          "output_type": "stream",
          "name": "stdout",
          "text": [
            "51.32666666666666\n"
          ]
        }
      ]
    },
    {
      "cell_type": "code",
      "metadata": {
        "colab": {
          "base_uri": "https://localhost:8080/"
        },
        "id": "PJxnfPqV1v_6",
        "outputId": "a330c092-8024-4cc9-c22b-a4567083d050"
      },
      "source": [
        "svv_20 = 337.01\n",
        "sqv_20 = 7\n",
        "tktm_20 = svv_20 / sqv_20\n",
        "print(tktm_20)"
      ],
      "execution_count": null,
      "outputs": [
        {
          "output_type": "stream",
          "name": "stdout",
          "text": [
            "48.144285714285715\n"
          ]
        }
      ]
    },
    {
      "cell_type": "code",
      "metadata": {
        "colab": {
          "base_uri": "https://localhost:8080/"
        },
        "id": "PuJ8S1aw2KWT",
        "outputId": "b3c6675f-be39-479e-fee8-ccc6829fcd04"
      },
      "source": [
        "svv_23 = 295.33\n",
        "sqv_23 = 5\n",
        "tktm_23 = svv_23 / sqv_23\n",
        "print(tktm_23)"
      ],
      "execution_count": 8,
      "outputs": [
        {
          "output_type": "stream",
          "name": "stdout",
          "text": [
            "59.065999999999995\n"
          ]
        }
      ]
    },
    {
      "cell_type": "code",
      "metadata": {
        "colab": {
          "base_uri": "https://localhost:8080/",
          "height": 183
        },
        "id": "Ut3KUGsH2fkb",
        "outputId": "71b38cf4-b69c-49c4-d415-c72eed0c0f19"
      },
      "source": [
        "tiquet_medio = (tktm_19 + tktm_20 + tktm_23)\n",
        "print(tiquet_medio)"
      ],
      "execution_count": 10,
      "outputs": [
        {
          "output_type": "error",
          "ename": "NameError",
          "evalue": "ignored",
          "traceback": [
            "\u001b[0;31m---------------------------------------------------------------------------\u001b[0m",
            "\u001b[0;31mNameError\u001b[0m                                 Traceback (most recent call last)",
            "\u001b[0;32m<ipython-input-10-b662d277f986>\u001b[0m in \u001b[0;36m<module>\u001b[0;34m()\u001b[0m\n\u001b[0;32m----> 1\u001b[0;31m \u001b[0mtiquet_medio\u001b[0m \u001b[0;34m=\u001b[0m \u001b[0;34m(\u001b[0m\u001b[0mtktm_19\u001b[0m \u001b[0;34m+\u001b[0m \u001b[0mtktm_20\u001b[0m \u001b[0;34m+\u001b[0m \u001b[0mtktm_23\u001b[0m\u001b[0;34m)\u001b[0m\u001b[0;34m\u001b[0m\u001b[0;34m\u001b[0m\u001b[0m\n\u001b[0m\u001b[1;32m      2\u001b[0m \u001b[0mprint\u001b[0m\u001b[0;34m(\u001b[0m\u001b[0mtiquet_medio\u001b[0m\u001b[0;34m)\u001b[0m\u001b[0;34m\u001b[0m\u001b[0;34m\u001b[0m\u001b[0m\n",
            "\u001b[0;31mNameError\u001b[0m: name 'tktm_19' is not defined"
          ]
        }
      ]
    },
    {
      "cell_type": "code",
      "metadata": {
        "id": "dM8cnXzpCYaJ"
      },
      "source": [
        ""
      ],
      "execution_count": null,
      "outputs": []
    },
    {
      "cell_type": "code",
      "metadata": {
        "id": "Ry02KP9nCXfz",
        "colab": {
          "base_uri": "https://localhost:8080/"
        },
        "outputId": "e62e8aee-aee8-4818-c876-e9423b980080"
      },
      "source": [
        "verdadeiro = True\n",
        "print(verdadeiro)"
      ],
      "execution_count": 11,
      "outputs": [
        {
          "output_type": "stream",
          "name": "stdout",
          "text": [
            "True\n"
          ]
        }
      ]
    },
    {
      "cell_type": "code",
      "metadata": {
        "colab": {
          "base_uri": "https://localhost:8080/"
        },
        "id": "Vw8_1M8bCdA2",
        "outputId": "c00c5c2f-02c8-4b28-d797-2f35980c1fa9"
      },
      "source": [
        "saldo_em_conta = 500\n",
        "valor_do_saque = 300\n",
        "\n",
        "pode_executar_saque = valor_do_saque <= saldo_em_conta\n",
        "print(pode_executar_saque)"
      ],
      "execution_count": 12,
      "outputs": [
        {
          "output_type": "stream",
          "name": "stdout",
          "text": [
            "True\n"
          ]
        }
      ]
    },
    {
      "cell_type": "code",
      "metadata": {
        "colab": {
          "base_uri": "https://localhost:8080/"
        },
        "id": "0gzSWjfsJZPL",
        "outputId": "6a79e079-647f-4822-e135-c5c1be1ecf72"
      },
      "source": [
        "codigo_de_seguranca = \"334\"\n",
        "codigo_de_seguranca_cadastro = \"054\"\n",
        "pode_efetuar_o_pagamento = codigo_de_seguranca == codigo_de_seguranca_cadastro\n",
        "print(pode_efetuar_o_pagamento)"
      ],
      "execution_count": 14,
      "outputs": [
        {
          "output_type": "stream",
          "name": "stdout",
          "text": [
            "False\n"
          ]
        }
      ]
    },
    {
      "cell_type": "code",
      "metadata": {
        "id": "OyxdrDrkJhWf",
        "colab": {
          "base_uri": "https://localhost:8080/"
        },
        "outputId": "980595f8-aaa6-433b-9f67-4ae049032e11"
      },
      "source": [
        "# MATERIA STRINGS As operações de variáveis do tipo string são:\n",
        "# + (concatenação).\n",
        "nome = \"Diego \"\n",
        "sobrenome = \"Salles\"\n",
        "\n",
        "apresentacao = \"Olá, meu nome é \" + nome +\"\"+sobrenome + \".\"\n",
        "print(apresentacao)\n"
      ],
      "execution_count": 26,
      "outputs": [
        {
          "output_type": "stream",
          "name": "stdout",
          "text": [
            "Olá, meu nome é Diego Salles.\n"
          ]
        }
      ]
    },
    {
      "cell_type": "code",
      "source": [
        "# Uma outra forma de concatenar strings é utilizar operações de formatação:\n",
        "\n",
        "nome = \"Diego\"\n",
        "sobrenome = \"Salles\"\n",
        "\n",
        "apresentacao = f\"olá , meu nome é  {nome} {sobrenome}.\"\n",
        "print (apresentacao)"
      ],
      "metadata": {
        "colab": {
          "base_uri": "https://localhost:8080/"
        },
        "id": "wKm4XdM7uUMt",
        "outputId": "c4e3e168-f38e-4620-f639-1f8e46bd469c"
      },
      "execution_count": 28,
      "outputs": [
        {
          "output_type": "stream",
          "name": "stdout",
          "text": [
            "olá , meu nome é  Diego Salles.\n"
          ]
        }
      ]
    },
    {
      "cell_type": "code",
      "source": [
        "# 4.4. Métodos\n",
        "# São métodos nativos do Python que nos ajudam a trabalhar no dia a dia com strings.\n",
        "\n",
        "endereco = \" Estrada de Sepetiba, 02, Rio de Janeiro. RJ, Brasil.\"\n",
        "\n",
        "# maiusculo: string.upper()\n",
        "print(endereco.upper())"
      ],
      "metadata": {
        "colab": {
          "base_uri": "https://localhost:8080/"
        },
        "id": "DZ8WM-2wzAjb",
        "outputId": "bc432683-eb26-45bb-c60b-51512a50646e"
      },
      "execution_count": 30,
      "outputs": [
        {
          "output_type": "stream",
          "name": "stdout",
          "text": [
            " ESTRADA DE SEPETIBA, 02, RIO DE JANEIRO. RJ, BRASIL.\n"
          ]
        }
      ]
    },
    {
      "cell_type": "code",
      "source": [
        "# posição: string. find(substring)\n",
        "print(endereco.find(\"Brasil\"))"
      ],
      "metadata": {
        "colab": {
          "base_uri": "https://localhost:8080/"
        },
        "id": "TCPo_VOE1DwY",
        "outputId": "2a43e1f8-cd03-4ef5-d353-d5a265602733"
      },
      "execution_count": 31,
      "outputs": [
        {
          "output_type": "stream",
          "name": "stdout",
          "text": [
            "46\n"
          ]
        }
      ]
    },
    {
      "cell_type": "code",
      "source": [
        "# substituição: string.replace(antigo, novo)\n",
        "print(endereco.replace(\"Estrada\", \"Str\"))"
      ],
      "metadata": {
        "colab": {
          "base_uri": "https://localhost:8080/"
        },
        "id": "prntubyH1YaW",
        "outputId": "9e82f883-2984-4a39-c7f4-68052fa0d40b"
      },
      "execution_count": 32,
      "outputs": [
        {
          "output_type": "stream",
          "name": "stdout",
          "text": [
            " Str de Sepetiba, 02, Rio de Janeiro. RJ, Brasil.\n"
          ]
        }
      ]
    },
    {
      "cell_type": "code",
      "source": [
        "#CONVERSÃO\n",
        "# PODEMOS CONVERTER STRINGS EM TIPOS NUMÉRICOS E VICE VERSA.\n",
        "\n",
        "idade = 35\n",
        "print(type(idade))\n",
        "\n",
        "idade = str(idade)\n",
        "print(type(idade))\n",
        "\n"
      ],
      "metadata": {
        "colab": {
          "base_uri": "https://localhost:8080/"
        },
        "id": "_q9pkCiT2p11",
        "outputId": "951a7fa3-bbf5-49a7-fb68-1776350432da"
      },
      "execution_count": 33,
      "outputs": [
        {
          "output_type": "stream",
          "name": "stdout",
          "text": [
            "<class 'int'>\n",
            "<class 'str'>\n"
          ]
        }
      ]
    },
    {
      "cell_type": "code",
      "source": [
        "faturamento = \"R$ 51 mi\"\n",
        "print(faturamento)\n",
        "print(type(idade))\n",
        "\n",
        "faturamento = int(faturamento[3:5])\n",
        "print(faturamento)\n",
        "print(type(faturamento))\n",
        "\n"
      ],
      "metadata": {
        "colab": {
          "base_uri": "https://localhost:8080/"
        },
        "id": "6tYH-G593KFr",
        "outputId": "4e90fa31-645f-4bbc-c4fd-80cf14dc780e"
      },
      "execution_count": 44,
      "outputs": [
        {
          "output_type": "stream",
          "name": "stdout",
          "text": [
            "R$ 51 mi\n",
            "<class 'str'>\n",
            "51\n",
            "<class 'int'>\n"
          ]
        }
      ]
    },
    {
      "cell_type": "code",
      "source": [
        ""
      ],
      "metadata": {
        "id": "F7D93VEE3Xva"
      },
      "execution_count": null,
      "outputs": []
    }
  ]
}